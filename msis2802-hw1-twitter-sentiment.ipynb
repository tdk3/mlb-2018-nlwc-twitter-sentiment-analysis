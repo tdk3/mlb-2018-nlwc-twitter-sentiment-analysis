{
 "cells": [
  {
   "cell_type": "code",
   "execution_count": 109,
   "metadata": {},
   "outputs": [
    {
     "data": {
      "text/plain": [
       "list"
      ]
     },
     "execution_count": 109,
     "metadata": {},
     "output_type": "execute_result"
    }
   ],
   "source": [
    "# Read in tweets\n",
    "f = open(\"NLWildCard.txt\", \"r\")\n",
    "tweets = f.readlines()\n",
    "f.close()\n",
    "type(tweets)"
   ]
  },
  {
   "cell_type": "markdown",
   "metadata": {},
   "source": [
    "<h1>Total Tweets</h1>"
   ]
  },
  {
   "cell_type": "code",
   "execution_count": 96,
   "metadata": {},
   "outputs": [
    {
     "name": "stdout",
     "output_type": "stream",
     "text": [
      "Collected Tweets: 18000\n"
     ]
    }
   ],
   "source": [
    "print(\"Collected Tweets:\", len(tweets))"
   ]
  },
  {
   "cell_type": "markdown",
   "metadata": {},
   "source": [
    "<h1>Sample Tweets</h1>"
   ]
  },
  {
   "cell_type": "code",
   "execution_count": 97,
   "metadata": {},
   "outputs": [
    {
     "data": {
      "text/plain": [
       "['Strop should automatically have to give up a run for wearing his hat like that #NLWildCard\\n',\n",
       " 'This game is unbelievable go Cubs. This game is yours #NLWildCard #CubsVsRockies #GoCubsGo\\n',\n",
       " 'CMON PEDRO, 2 MORE LETS GO BUD #CubsVsRockies #NLWildCard\\n',\n",
       " 'RT @ Javy Baez RBI and @BarstoolBigCat is BACK #NLWildCard tied up 1-1  https://t.co/xOs0iW2bwE https://t.co/ieuTyJPuXa\\n',\n",
       " 'RT @ Javier Baez hits a game-tying double in the 8th inning! #NLWildCard https://t.co/v8cTowUCSH\\n',\n",
       " 'Where’s Bill Murray?? #NLWildCard\\n',\n",
       " 'RT @ Is this #NLwildcard going to #extrainnings?  #rebeccagrant,#sportscaster,#spokesperson,#postseason,#NLWildCard,#cubs,#rockies\\n',\n",
       " 'RT @ Whoa Matt Vasgersian, comparing the Terrance Gore SB to Dave Roberts steal, no way. Maybe if the Cubs hadn’t won the World Series two years ago. #NLWildCard\\n',\n",
       " 'Arrenado straight up choked that ab #NLWildCard\\n',\n",
       " 'I fucking love October baseball ⚾️ #NLWildCard #MLBPostseason\\n',\n",
       " 'RT @ And to think there’s people who think baseball is boring. I live for October baseball #NLWildCard\\n',\n",
       " 'RT @ Welcome to October baseball. #NLWildcard https://t.co/AwDPLqFssZ\\n',\n",
       " 'Would love to see the @statcast on how fast Gore was running to second in #NLWildCard\\n',\n",
       " 'Omg so embarrassing, someone should tell Pedro Strop his hat is on wrong. So embarrassing for him. #NLWildCard #COLvsCHC\\n',\n",
       " 'Not even pitches to Nolan#NLWildCard\\n',\n",
       " 'RT @ TFW you tie it up LATE in the #NLWildCard game 🔥! El Mago strikes again 🌟🎩 https://t.co/VIbBezjz5z\\n',\n",
       " 'RT @ Please god tell me how this is an out!? This is ridiculous  #NLWildCard @MLB https://t.co/UhVconjL9c\\n',\n",
       " 'I love Javy Baez #NLWildCard\\n',\n",
       " 'RT @ Please god tell me how this is an out!? This is ridiculous  #NLWildCard @MLB https://t.co/UhVconjL9c\\n',\n",
       " 'Crooked hat guy!  😂😂#NLWildCard\\n',\n",
       " 'RT @ \"In every thing give thanks: for this is the will of God in Christ Jesus concerning you.\" (1 Thessalonians 5:18 KJV) #ProvaDoFazendeiro #NLWildCard #Cubs #MasterChefBR #天気b #DebateNaGlobo #人気投票ガチャ #EverybodyIn #CubsVsRockies #WildCard #Rocktober #Rockies #AFazenda10 #MLB https://t.co/KsRlN6Salw\\n',\n",
       " 'RT @ TFW you tie it up LATE in the #NLWildCard game 🔥! El Mago strikes again 🌟🎩 https://t.co/VIbBezjz5z\\n',\n",
       " \"This damn game better not go to extras, I'm already out of beer! #NLWildCard\\n\",\n",
       " 'Even the announcers know the Rockies are getting jobbed. Guess money does matter. #NLWildCard\\n',\n",
       " 'RT @ Javier Baez drives in Terrance Gore as the Cubs tie it up in the 8th #NLWildCard https://t.co/b5DY3DZ3M7\\n',\n",
       " 'Sp🎃🎃ky Rocktober Game ⚾️#NLWildCard\\n',\n",
       " \"RT @ The fix is in, can you make it any obvious that mlb doesn't want the Rickies to win? Umps doing all they can to insure Cubs win #Rockies #lousyumpires #NLWildCard\\n\",\n",
       " 'RT @ When #rockies #NolanArenado is at the plate, it’s like #homerunderby. Maybe #cubs should just walk him.  Do you agree? RT  #NLWildCard,#rebeccagrant,#sportscaster,#spokesperson,#mlb,#postseason,#Rocktober\\u2060\\n',\n",
       " 'RT @ TFW you tie it up LATE in the #NLWildCard game 🔥! El Mago strikes again 🌟🎩 https://t.co/VIbBezjz5z\\n',\n",
       " 'RT @ Please god tell me how this is an out!? This is ridiculous  #NLWildCard @MLB https://t.co/UhVconjL9c\\n',\n",
       " \"nothing strikes fear into a batter's eyes more than Strop's semi sideways hats... #NLWildCard\\n\",\n",
       " 'RT @ Welcome to October baseball. #NLWildcard https://t.co/AwDPLqFssZ\\n',\n",
       " 'Strop’s hat is the dumbest thing I’ve ever seen #Cubs #NLWildCard\\n',\n",
       " 'Switching to bourbon at our house. How are you other #Cubs fans coping? #NLWildCard\\n',\n",
       " 'RT @ These umpires right now #Rocktober #NLWildCard https://t.co/ZkrkA5rm0d\\n',\n",
       " \"Why can't this guy get his hat on straight? Blind? Ignorant? Just stupid? #Rockies25th #Rocktober  #NLWildCard\\n\",\n",
       " 'RT @ In what world is this not a swing? #NLWildCard https://t.co/hWF5giwuAb\\n',\n",
       " 'Strop’s hat is killing me. #NLWildCard\\n',\n",
       " 'RT @ #ChooseKindness #ShredHate indeed #COLvsCHC &amp; @espn  #NLWildCard\\n',\n",
       " \"when the Cubs tie it up as you're bringing up the groceries #NLWildCard https://t.co/XtBzHItG1s\\n\",\n",
       " 'Strop in for the Cubs to face Arenado, Story and Parra in the top of the 9th.  #NLWildCard #COLvsCHC\\n',\n",
       " \"Oh Jesus Christ, it's crooked hat pitcher guy again #NLWildCard #COLvsCHC #CubsVsRockies\\n\",\n",
       " 'RT @ When a runner in scoring position actually crosses home plate. #NLWildCard https://t.co/ob7beC5eJg\\n',\n",
       " 'YESSSS!!!! Tied Game!!!! #GoCubsGo #NLWildCard #Everybodyin\\n',\n",
       " 'Scouting potential competition. #NLWildCard game tied at 1 in the 9th.\\n',\n",
       " \"I hate that they don't show the 7th inning stretch on ESPN when the Cubs play. The Cubs need a channel of their own. #NLWildCard\\n\",\n",
       " 'RT @ Pedro Strop should stop wearing his hat like a douche. #NLWildCard #hashtag\\n',\n",
       " '⚾️ #LALATE11 ⚾️ LIVE #Rockies vs #Cubs 1-1 TOP of 9th! LIVE! ▶️▶️  https://t.co/fuQlMnrNdQ \"Rockies\"\"Cubs\"  \"Wild Card\" #WildCard #MLB \"Playoff\" #Playoff\"  #NLWildCard #Postseason    zx\\n',\n",
       " 'RT @ Someone please explain to me how this man was out. Please. #NLWildcard https://t.co/QPcbTqXaBK\\n',\n",
       " 'Strop now pitching for Cubs.   #MLB.    #Cubs.   #NLWildCard.\\n']"
      ]
     },
     "execution_count": 97,
     "metadata": {},
     "output_type": "execute_result"
    }
   ],
   "source": [
    "tweets[:50]"
   ]
  },
  {
   "cell_type": "markdown",
   "metadata": {},
   "source": [
    "<h1>Data Cleaning</h1>"
   ]
  },
  {
   "cell_type": "code",
   "execution_count": 110,
   "metadata": {},
   "outputs": [
    {
     "data": {
      "text/plain": [
       "['strop should automatically have to give up a run for wearing his hat like that \\n',\n",
       " 'this game is unbelievable go cubs. this game is yours  #cubsvsrockies #gocubsgo\\n',\n",
       " 'cmon pedro, 2 more lets go bud #cubsvsrockies \\n',\n",
       " 'rt @ javy baez rbi and @barstoolbigcat is back  tied up 1-1  https://t.co/xos0iw2bwe https://t.co/ieutyjpuxa\\n',\n",
       " 'rt @ javier baez hits a game-tying double in the 8th inning!  https://t.co/v8ctowucsh\\n',\n",
       " 'where’s bill murray?? \\n',\n",
       " 'rt @ is this  going to #extrainnings?  #rebeccagrant,#sportscaster,#spokesperson,#postseason,,#cubs,#rockies\\n',\n",
       " 'rt @ whoa matt vasgersian, comparing the terrance gore sb to dave roberts steal, no way. maybe if the cubs hadn’t won the world series two years ago. \\n',\n",
       " 'arrenado straight up choked that ab \\n',\n",
       " 'i fucking love october baseball ⚾️  #mlbpostseason\\n']"
      ]
     },
     "execution_count": 110,
     "metadata": {},
     "output_type": "execute_result"
    }
   ],
   "source": [
    "#Lowercase and remove main hashtag \n",
    "tweets = [tweet.lower().replace(\"#nlwildcard\", \"\") for tweet in tweets]\n",
    "tweets[:10]"
   ]
  },
  {
   "cell_type": "code",
   "execution_count": 111,
   "metadata": {},
   "outputs": [
    {
     "data": {
      "text/plain": [
       "['strop should automatically have to give up a run for wearing his hat like that ',\n",
       " 'this game is unbelievable go cubs. this game is yours   ',\n",
       " 'cmon pedro, 2 more lets go bud  ',\n",
       " ' @ javy baez rbi and @barstoolbigcat is back  tied up 1-1  https://t.co/xos0iw2bwe https://t.co/ieutyjpuxa',\n",
       " ' @ javier baez hits a game-tying double in the 8th inning!  https://t.co/v8ctowucsh',\n",
       " 'where’s bill murray?? ',\n",
       " ' @ is this  going to ?  ,,,,,,',\n",
       " ' @ whoa matt vasgersian, comparing the terrance gore sb to dave robes steal, no way. maybe if the cubs hadn’t won the world series two years ago. ',\n",
       " 'arrenado straight up choked that ab ',\n",
       " 'i fucking love october baseball ⚾️  ']"
      ]
     },
     "execution_count": 111,
     "metadata": {},
     "output_type": "execute_result"
    }
   ],
   "source": [
    "#Remove additional hashtags, rt's, and newline characters\n",
    "import re\n",
    "tweets = [re.sub('\\B#\\w\\w+|rt|\\n', r'', tweet) for tweet in tweets]\n",
    "tweets[:10]"
   ]
  },
  {
   "cell_type": "code",
   "execution_count": 112,
   "metadata": {},
   "outputs": [
    {
     "data": {
      "text/plain": [
       "['strop should automatically have to give up a run for wearing his hat like that ',\n",
       " 'this game is unbelievable go cubs. this game is yours   ',\n",
       " 'cmon pedro, 2 more lets go bud  ',\n",
       " ' @ javy baez rbi and @barstoolbigcat is back  tied up 1-1  ',\n",
       " ' @ javier baez hits a game-tying double in the 8th inning!  ',\n",
       " 'where’s bill murray?? ',\n",
       " ' @ is this  going to ?  ,,,,,,',\n",
       " ' @ whoa matt vasgersian, comparing the terrance gore sb to dave robes steal, no way. maybe if the cubs hadn’t won the world series two years ago. ',\n",
       " 'arrenado straight up choked that ab ',\n",
       " 'i fucking love october baseball ⚾️  ',\n",
       " ' @ and to think there’s people who think baseball is boring. i live for october baseball ',\n",
       " ' @ welcome to october baseball.  ',\n",
       " 'would love to see the @statcast on how fast gore was running to second in ',\n",
       " 'omg so embarrassing, someone should tell pedro strop his hat is on wrong. so embarrassing for him.  ',\n",
       " 'not even pitches to nolan']"
      ]
     },
     "execution_count": 112,
     "metadata": {},
     "output_type": "execute_result"
    }
   ],
   "source": [
    "#Remove HTTP links\n",
    "tweets = [re.sub('http.+?\\s|http.+?$', '', tweet) for tweet in tweets]\n",
    "tweets[:15]"
   ]
  },
  {
   "cell_type": "code",
   "execution_count": 113,
   "metadata": {},
   "outputs": [
    {
     "data": {
      "text/plain": [
       "['strop should automatically have to give up a run for wearing his hat like that ',\n",
       " 'this game is unbelievable go cubs this game is yours   ',\n",
       " 'cmon pedro 2 more lets go bud  ',\n",
       " '  javy baez rbi and barstoolbigcat is back  tied up 11  ',\n",
       " '  javier baez hits a gametying double in the 8th inning  ',\n",
       " 'wheres bill murray ',\n",
       " '  is this  going to   ',\n",
       " '  whoa matt vasgersian comparing the terrance gore sb to dave robes steal no way maybe if the cubs hadnt won the world series two years ago ',\n",
       " 'arrenado straight up choked that ab ',\n",
       " 'i fucking love october baseball   ',\n",
       " '  and to think theres people who think baseball is boring i live for october baseball ',\n",
       " '  welcome to october baseball  ',\n",
       " 'would love to see the statcast on how fast gore was running to second in ',\n",
       " 'omg so embarrassing someone should tell pedro strop his hat is on wrong so embarrassing for him  ',\n",
       " 'not even pitches to nolan']"
      ]
     },
     "execution_count": 113,
     "metadata": {},
     "output_type": "execute_result"
    }
   ],
   "source": [
    "#Remove remaining punctuation\n",
    "tweets = [re.sub(r'[^\\w\\s]','', tweet) for tweet in tweets]\n",
    "tweets[:15]"
   ]
  },
  {
   "cell_type": "code",
   "execution_count": 119,
   "metadata": {},
   "outputs": [
    {
     "data": {
      "text/plain": [
       "['strop should automatically have to give up a run for wearing his hat like that ',\n",
       " 'this game is unbelievable go cubs this game is yours   ',\n",
       " 'cmon pedro 2 more lets go bud  ',\n",
       " '  javy baez rbi and barstoolbigcat is back  tied up 11  ',\n",
       " '  javier baez hits a gametying double in the 8th inning  ',\n",
       " 'wheres bill murray ',\n",
       " '  is this  going to   ',\n",
       " '  whoa matt vasgersian comparing the terrance gore sb to dave robes steal no way maybe if the cubs hadnt won the world series two years ago ',\n",
       " 'arrenado straight up choked that ab ',\n",
       " 'i fucking love october baseball   ',\n",
       " '  and to think theres people who think baseball is boring i live for october baseball ',\n",
       " '  welcome to october baseball  ',\n",
       " 'would love to see the statcast on how fast gore was running to second in ',\n",
       " 'omg so embarrassing someone should tell pedro strop his hat is on wrong so embarrassing for him  ',\n",
       " 'not even pitches to nolan']"
      ]
     },
     "execution_count": 119,
     "metadata": {},
     "output_type": "execute_result"
    }
   ],
   "source": [
    "#Remove emojis and symbols\n",
    "emojis_symbols = re.compile(\"[\"\n",
    "        u\"\\U0001F600-\\U0001F64F\"  # emoticons\n",
    "        u\"\\U0001F300-\\U0001F5FF\"  # symbols & pictographs\n",
    "        u\"\\U0001F680-\\U0001F6FF\"  # transport & map symbols\n",
    "        u\"\\U0001F1E0-\\U0001F1FF\"  # flags (iOS)\n",
    "                           \"]+\", flags=re.UNICODE)\n",
    "tweets = [emojis_symbols.sub('', tweet) for tweet in tweets]\n",
    "tweets[:15]"
   ]
  },
  {
   "cell_type": "markdown",
   "metadata": {},
   "source": [
    "Emoji filtering solution found here: https://stackoverflow.com/questions/33404752/removing-emojis-from-a-string-in-python#33417311"
   ]
  },
  {
   "cell_type": "code",
   "execution_count": 127,
   "metadata": {},
   "outputs": [
    {
     "data": {
      "text/plain": [
       "['strop should automatically have to give up a run for wearing his hat like that ',\n",
       " 'this game is unbelievable go cubs this game is yours   ',\n",
       " 'cmon pedro  more lets go bud  ',\n",
       " '  javy baez rbi and barstoolbigcat is back  tied up   ',\n",
       " '  javier baez hits a gametying double in the th inning  ',\n",
       " 'wheres bill murray ',\n",
       " '  is this  going to   ',\n",
       " '  whoa matt vasgersian comparing the terrance gore sb to dave robes steal no way maybe if the cubs hadnt won the world series two years ago ',\n",
       " 'arrenado straight up choked that ab ',\n",
       " 'i fucking love october baseball   ',\n",
       " '  and to think theres people who think baseball is boring i live for october baseball ',\n",
       " '  welcome to october baseball  ',\n",
       " 'would love to see the statcast on how fast gore was running to second in ',\n",
       " 'omg so embarrassing someone should tell pedro strop his hat is on wrong so embarrassing for him  ',\n",
       " 'not even pitches to nolan']"
      ]
     },
     "execution_count": 127,
     "metadata": {},
     "output_type": "execute_result"
    }
   ],
   "source": [
    "#Remove digits\n",
    "tweets = [re.sub('[0-9]', '', tweet) for tweet in tweets]\n",
    "tweets[:15]"
   ]
  },
  {
   "cell_type": "code",
   "execution_count": 133,
   "metadata": {
    "scrolled": true
   },
   "outputs": [
    {
     "name": "stdout",
     "output_type": "stream",
     "text": [
      "[nltk_data] Downloading package stopwords to\n",
      "[nltk_data]     /Users/trekendrick/nltk_data...\n",
      "[nltk_data]   Unzipping corpora/stopwords.zip.\n"
     ]
    },
    {
     "data": {
      "text/plain": [
       "True"
      ]
     },
     "execution_count": 133,
     "metadata": {},
     "output_type": "execute_result"
    }
   ],
   "source": [
    "#import nltk\n",
    "#nltk.download('stopwords')"
   ]
  },
  {
   "cell_type": "markdown",
   "metadata": {},
   "source": [
    "<h1>Removing Stopwords</h1>"
   ]
  },
  {
   "cell_type": "code",
   "execution_count": 168,
   "metadata": {},
   "outputs": [
    {
     "data": {
      "text/html": [
       "<div>\n",
       "<style scoped>\n",
       "    .dataframe tbody tr th:only-of-type {\n",
       "        vertical-align: middle;\n",
       "    }\n",
       "\n",
       "    .dataframe tbody tr th {\n",
       "        vertical-align: top;\n",
       "    }\n",
       "\n",
       "    .dataframe thead th {\n",
       "        text-align: right;\n",
       "    }\n",
       "</style>\n",
       "<table border=\"1\" class=\"dataframe\">\n",
       "  <thead>\n",
       "    <tr style=\"text-align: right;\">\n",
       "      <th></th>\n",
       "      <th>tweets</th>\n",
       "    </tr>\n",
       "  </thead>\n",
       "  <tbody>\n",
       "    <tr>\n",
       "      <th>0</th>\n",
       "      <td>[strop, should, automatically, have, to, give,...</td>\n",
       "    </tr>\n",
       "    <tr>\n",
       "      <th>1</th>\n",
       "      <td>[this, game, is, unbelievable, go, cubs, this,...</td>\n",
       "    </tr>\n",
       "    <tr>\n",
       "      <th>2</th>\n",
       "      <td>[cmon, pedro, more, lets, go, bud]</td>\n",
       "    </tr>\n",
       "    <tr>\n",
       "      <th>3</th>\n",
       "      <td>[javy, baez, rbi, and, barstoolbigcat, is, bac...</td>\n",
       "    </tr>\n",
       "    <tr>\n",
       "      <th>4</th>\n",
       "      <td>[javier, baez, hits, a, gametying, double, in,...</td>\n",
       "    </tr>\n",
       "    <tr>\n",
       "      <th>5</th>\n",
       "      <td>[wheres, bill, murray]</td>\n",
       "    </tr>\n",
       "    <tr>\n",
       "      <th>6</th>\n",
       "      <td>[is, this, going, to]</td>\n",
       "    </tr>\n",
       "    <tr>\n",
       "      <th>7</th>\n",
       "      <td>[whoa, matt, vasgersian, comparing, the, terra...</td>\n",
       "    </tr>\n",
       "    <tr>\n",
       "      <th>8</th>\n",
       "      <td>[arrenado, straight, up, choked, that, ab]</td>\n",
       "    </tr>\n",
       "    <tr>\n",
       "      <th>9</th>\n",
       "      <td>[i, fucking, love, october, baseball]</td>\n",
       "    </tr>\n",
       "    <tr>\n",
       "      <th>10</th>\n",
       "      <td>[and, to, think, theres, people, who, think, b...</td>\n",
       "    </tr>\n",
       "    <tr>\n",
       "      <th>11</th>\n",
       "      <td>[welcome, to, october, baseball]</td>\n",
       "    </tr>\n",
       "    <tr>\n",
       "      <th>12</th>\n",
       "      <td>[would, love, to, see, the, statcast, on, how,...</td>\n",
       "    </tr>\n",
       "    <tr>\n",
       "      <th>13</th>\n",
       "      <td>[omg, so, embarrassing, someone, should, tell,...</td>\n",
       "    </tr>\n",
       "    <tr>\n",
       "      <th>14</th>\n",
       "      <td>[not, even, pitches, to, nolan]</td>\n",
       "    </tr>\n",
       "  </tbody>\n",
       "</table>\n",
       "</div>"
      ],
      "text/plain": [
       "                                               tweets\n",
       "0   [strop, should, automatically, have, to, give,...\n",
       "1   [this, game, is, unbelievable, go, cubs, this,...\n",
       "2                  [cmon, pedro, more, lets, go, bud]\n",
       "3   [javy, baez, rbi, and, barstoolbigcat, is, bac...\n",
       "4   [javier, baez, hits, a, gametying, double, in,...\n",
       "5                              [wheres, bill, murray]\n",
       "6                               [is, this, going, to]\n",
       "7   [whoa, matt, vasgersian, comparing, the, terra...\n",
       "8          [arrenado, straight, up, choked, that, ab]\n",
       "9               [i, fucking, love, october, baseball]\n",
       "10  [and, to, think, theres, people, who, think, b...\n",
       "11                   [welcome, to, october, baseball]\n",
       "12  [would, love, to, see, the, statcast, on, how,...\n",
       "13  [omg, so, embarrassing, someone, should, tell,...\n",
       "14                    [not, even, pitches, to, nolan]"
      ]
     },
     "execution_count": 168,
     "metadata": {},
     "output_type": "execute_result"
    }
   ],
   "source": [
    "import pandas as pd\n",
    "\n",
    "words_in_tweet = [tweet.split() for tweet in tweets]\n",
    "tweets_df = pd.DataFrame({\"tweets\": words_in_tweet})\n",
    "tweets_df.head(15)"
   ]
  },
  {
   "cell_type": "code",
   "execution_count": 173,
   "metadata": {},
   "outputs": [],
   "source": [
    "def remove_swords(x):\n",
    "    return [word for word in x if word not in stopwords.words('english')]"
   ]
  },
  {
   "cell_type": "code",
   "execution_count": 175,
   "metadata": {},
   "outputs": [
    {
     "data": {
      "text/html": [
       "<div>\n",
       "<style scoped>\n",
       "    .dataframe tbody tr th:only-of-type {\n",
       "        vertical-align: middle;\n",
       "    }\n",
       "\n",
       "    .dataframe tbody tr th {\n",
       "        vertical-align: top;\n",
       "    }\n",
       "\n",
       "    .dataframe thead th {\n",
       "        text-align: right;\n",
       "    }\n",
       "</style>\n",
       "<table border=\"1\" class=\"dataframe\">\n",
       "  <thead>\n",
       "    <tr style=\"text-align: right;\">\n",
       "      <th></th>\n",
       "      <th>tweets</th>\n",
       "      <th>tweets_clean</th>\n",
       "    </tr>\n",
       "  </thead>\n",
       "  <tbody>\n",
       "    <tr>\n",
       "      <th>0</th>\n",
       "      <td>[strop, should, automatically, have, to, give,...</td>\n",
       "      <td>[strop, automatically, give, run, wearing, hat...</td>\n",
       "    </tr>\n",
       "    <tr>\n",
       "      <th>1</th>\n",
       "      <td>[this, game, is, unbelievable, go, cubs, this,...</td>\n",
       "      <td>[game, unbelievable, go, cubs, game]</td>\n",
       "    </tr>\n",
       "    <tr>\n",
       "      <th>2</th>\n",
       "      <td>[cmon, pedro, more, lets, go, bud]</td>\n",
       "      <td>[cmon, pedro, lets, go, bud]</td>\n",
       "    </tr>\n",
       "    <tr>\n",
       "      <th>3</th>\n",
       "      <td>[javy, baez, rbi, and, barstoolbigcat, is, bac...</td>\n",
       "      <td>[javy, baez, rbi, barstoolbigcat, back, tied]</td>\n",
       "    </tr>\n",
       "    <tr>\n",
       "      <th>4</th>\n",
       "      <td>[javier, baez, hits, a, gametying, double, in,...</td>\n",
       "      <td>[javier, baez, hits, gametying, double, th, in...</td>\n",
       "    </tr>\n",
       "    <tr>\n",
       "      <th>5</th>\n",
       "      <td>[wheres, bill, murray]</td>\n",
       "      <td>[wheres, bill, murray]</td>\n",
       "    </tr>\n",
       "    <tr>\n",
       "      <th>6</th>\n",
       "      <td>[is, this, going, to]</td>\n",
       "      <td>[going]</td>\n",
       "    </tr>\n",
       "    <tr>\n",
       "      <th>7</th>\n",
       "      <td>[whoa, matt, vasgersian, comparing, the, terra...</td>\n",
       "      <td>[whoa, matt, vasgersian, comparing, terrance, ...</td>\n",
       "    </tr>\n",
       "    <tr>\n",
       "      <th>8</th>\n",
       "      <td>[arrenado, straight, up, choked, that, ab]</td>\n",
       "      <td>[arrenado, straight, choked, ab]</td>\n",
       "    </tr>\n",
       "    <tr>\n",
       "      <th>9</th>\n",
       "      <td>[i, fucking, love, october, baseball]</td>\n",
       "      <td>[fucking, love, october, baseball]</td>\n",
       "    </tr>\n",
       "    <tr>\n",
       "      <th>10</th>\n",
       "      <td>[and, to, think, theres, people, who, think, b...</td>\n",
       "      <td>[think, theres, people, think, baseball, borin...</td>\n",
       "    </tr>\n",
       "    <tr>\n",
       "      <th>11</th>\n",
       "      <td>[welcome, to, october, baseball]</td>\n",
       "      <td>[welcome, october, baseball]</td>\n",
       "    </tr>\n",
       "    <tr>\n",
       "      <th>12</th>\n",
       "      <td>[would, love, to, see, the, statcast, on, how,...</td>\n",
       "      <td>[would, love, see, statcast, fast, gore, runni...</td>\n",
       "    </tr>\n",
       "    <tr>\n",
       "      <th>13</th>\n",
       "      <td>[omg, so, embarrassing, someone, should, tell,...</td>\n",
       "      <td>[omg, embarrassing, someone, tell, pedro, stro...</td>\n",
       "    </tr>\n",
       "    <tr>\n",
       "      <th>14</th>\n",
       "      <td>[not, even, pitches, to, nolan]</td>\n",
       "      <td>[even, pitches, nolan]</td>\n",
       "    </tr>\n",
       "  </tbody>\n",
       "</table>\n",
       "</div>"
      ],
      "text/plain": [
       "                                               tweets  \\\n",
       "0   [strop, should, automatically, have, to, give,...   \n",
       "1   [this, game, is, unbelievable, go, cubs, this,...   \n",
       "2                  [cmon, pedro, more, lets, go, bud]   \n",
       "3   [javy, baez, rbi, and, barstoolbigcat, is, bac...   \n",
       "4   [javier, baez, hits, a, gametying, double, in,...   \n",
       "5                              [wheres, bill, murray]   \n",
       "6                               [is, this, going, to]   \n",
       "7   [whoa, matt, vasgersian, comparing, the, terra...   \n",
       "8          [arrenado, straight, up, choked, that, ab]   \n",
       "9               [i, fucking, love, october, baseball]   \n",
       "10  [and, to, think, theres, people, who, think, b...   \n",
       "11                   [welcome, to, october, baseball]   \n",
       "12  [would, love, to, see, the, statcast, on, how,...   \n",
       "13  [omg, so, embarrassing, someone, should, tell,...   \n",
       "14                    [not, even, pitches, to, nolan]   \n",
       "\n",
       "                                         tweets_clean  \n",
       "0   [strop, automatically, give, run, wearing, hat...  \n",
       "1                [game, unbelievable, go, cubs, game]  \n",
       "2                        [cmon, pedro, lets, go, bud]  \n",
       "3       [javy, baez, rbi, barstoolbigcat, back, tied]  \n",
       "4   [javier, baez, hits, gametying, double, th, in...  \n",
       "5                              [wheres, bill, murray]  \n",
       "6                                             [going]  \n",
       "7   [whoa, matt, vasgersian, comparing, terrance, ...  \n",
       "8                    [arrenado, straight, choked, ab]  \n",
       "9                  [fucking, love, october, baseball]  \n",
       "10  [think, theres, people, think, baseball, borin...  \n",
       "11                       [welcome, october, baseball]  \n",
       "12  [would, love, see, statcast, fast, gore, runni...  \n",
       "13  [omg, embarrassing, someone, tell, pedro, stro...  \n",
       "14                             [even, pitches, nolan]  "
      ]
     },
     "execution_count": 175,
     "metadata": {},
     "output_type": "execute_result"
    }
   ],
   "source": [
    "tweets_df['tweets_clean'] = tweets_df['tweets'].apply(lambda x: remove_swords(x))\n",
    "tweets_df.head(15)"
   ]
  },
  {
   "cell_type": "code",
   "execution_count": 193,
   "metadata": {},
   "outputs": [
    {
     "data": {
      "text/html": [
       "<div>\n",
       "<style scoped>\n",
       "    .dataframe tbody tr th:only-of-type {\n",
       "        vertical-align: middle;\n",
       "    }\n",
       "\n",
       "    .dataframe tbody tr th {\n",
       "        vertical-align: top;\n",
       "    }\n",
       "\n",
       "    .dataframe thead th {\n",
       "        text-align: right;\n",
       "    }\n",
       "</style>\n",
       "<table border=\"1\" class=\"dataframe\">\n",
       "  <thead>\n",
       "    <tr style=\"text-align: right;\">\n",
       "      <th></th>\n",
       "      <th>words</th>\n",
       "    </tr>\n",
       "  </thead>\n",
       "  <tbody>\n",
       "    <tr>\n",
       "      <th>0</th>\n",
       "      <td>strop</td>\n",
       "    </tr>\n",
       "    <tr>\n",
       "      <th>1</th>\n",
       "      <td>automatically</td>\n",
       "    </tr>\n",
       "    <tr>\n",
       "      <th>2</th>\n",
       "      <td>give</td>\n",
       "    </tr>\n",
       "    <tr>\n",
       "      <th>3</th>\n",
       "      <td>run</td>\n",
       "    </tr>\n",
       "    <tr>\n",
       "      <th>4</th>\n",
       "      <td>wearing</td>\n",
       "    </tr>\n",
       "    <tr>\n",
       "      <th>5</th>\n",
       "      <td>hat</td>\n",
       "    </tr>\n",
       "    <tr>\n",
       "      <th>6</th>\n",
       "      <td>like</td>\n",
       "    </tr>\n",
       "    <tr>\n",
       "      <th>7</th>\n",
       "      <td>game</td>\n",
       "    </tr>\n",
       "    <tr>\n",
       "      <th>8</th>\n",
       "      <td>unbelievable</td>\n",
       "    </tr>\n",
       "    <tr>\n",
       "      <th>9</th>\n",
       "      <td>go</td>\n",
       "    </tr>\n",
       "    <tr>\n",
       "      <th>10</th>\n",
       "      <td>cubs</td>\n",
       "    </tr>\n",
       "    <tr>\n",
       "      <th>11</th>\n",
       "      <td>game</td>\n",
       "    </tr>\n",
       "    <tr>\n",
       "      <th>12</th>\n",
       "      <td>cmon</td>\n",
       "    </tr>\n",
       "    <tr>\n",
       "      <th>13</th>\n",
       "      <td>pedro</td>\n",
       "    </tr>\n",
       "    <tr>\n",
       "      <th>14</th>\n",
       "      <td>lets</td>\n",
       "    </tr>\n",
       "  </tbody>\n",
       "</table>\n",
       "</div>"
      ],
      "text/plain": [
       "            words\n",
       "0           strop\n",
       "1   automatically\n",
       "2            give\n",
       "3             run\n",
       "4         wearing\n",
       "5             hat\n",
       "6            like\n",
       "7            game\n",
       "8    unbelievable\n",
       "9              go\n",
       "10           cubs\n",
       "11           game\n",
       "12           cmon\n",
       "13          pedro\n",
       "14           lets"
      ]
     },
     "execution_count": 193,
     "metadata": {},
     "output_type": "execute_result"
    }
   ],
   "source": [
    "#Flatten tweets into one word list\n",
    "words_clean = []\n",
    "\n",
    "for x in tweets_df['tweets_clean']:\n",
    "    words_clean.extend(x)\n",
    "\n",
    "words = pd.DataFrame({\"words\": words_clean})\n",
    "words.head(15)"
   ]
  },
  {
   "cell_type": "markdown",
   "metadata": {},
   "source": [
    "<h1>Sentiment Scoring</h1>"
   ]
  },
  {
   "cell_type": "code",
   "execution_count": 252,
   "metadata": {},
   "outputs": [],
   "source": [
    "from nltk.corpus import sentiwordnet as swn\n",
    "#nltk.download('sentiwordnet')\n",
    "#nltk.download('wordnet')\n",
    "\n",
    "def get_pos_score(x):\n",
    "    l = list(swn.senti_synsets(x, 'a'))\n",
    "    if len(l) > 0:\n",
    "        return l[0].pos_score()\n",
    "    else:\n",
    "        return 0\n",
    "\n",
    "def get_neg_score(x):\n",
    "    l = list(swn.senti_synsets(x, 'a'))\n",
    "    if len(l) > 0:\n",
    "        return l[0].neg_score()\n",
    "    else:\n",
    "        return 0\n",
    "\n",
    "def get_obj_score(x):\n",
    "    l = list(swn.senti_synsets(x, 'a'))\n",
    "    if len(l) > 0:\n",
    "        return l[0].obj_score()\n",
    "    else:\n",
    "        return 0\n",
    "\n",
    "words['pos'] = words['words'].apply(lambda x: get_pos_score(x))\n",
    "words['neg'] = words['words'].apply(lambda x: get_neg_score(x))\n",
    "words['obj'] = words['words'].apply(lambda x: get_obj_score(x))\n"
   ]
  },
  {
   "cell_type": "code",
   "execution_count": 261,
   "metadata": {},
   "outputs": [
    {
     "data": {
      "text/html": [
       "<div>\n",
       "<style scoped>\n",
       "    .dataframe tbody tr th:only-of-type {\n",
       "        vertical-align: middle;\n",
       "    }\n",
       "\n",
       "    .dataframe tbody tr th {\n",
       "        vertical-align: top;\n",
       "    }\n",
       "\n",
       "    .dataframe thead th {\n",
       "        text-align: right;\n",
       "    }\n",
       "</style>\n",
       "<table border=\"1\" class=\"dataframe\">\n",
       "  <thead>\n",
       "    <tr style=\"text-align: right;\">\n",
       "      <th></th>\n",
       "      <th>words</th>\n",
       "      <th>pos</th>\n",
       "      <th>neg</th>\n",
       "      <th>obj</th>\n",
       "    </tr>\n",
       "  </thead>\n",
       "  <tbody>\n",
       "    <tr>\n",
       "      <th>71698</th>\n",
       "      <td>move</td>\n",
       "      <td>0.0</td>\n",
       "      <td>0.0</td>\n",
       "      <td>0.0</td>\n",
       "    </tr>\n",
       "    <tr>\n",
       "      <th>52799</th>\n",
       "      <td>thing</td>\n",
       "      <td>0.0</td>\n",
       "      <td>0.0</td>\n",
       "      <td>0.0</td>\n",
       "    </tr>\n",
       "    <tr>\n",
       "      <th>40873</th>\n",
       "      <td>tie</td>\n",
       "      <td>0.0</td>\n",
       "      <td>0.0</td>\n",
       "      <td>0.0</td>\n",
       "    </tr>\n",
       "    <tr>\n",
       "      <th>64768</th>\n",
       "      <td>man</td>\n",
       "      <td>0.0</td>\n",
       "      <td>0.0</td>\n",
       "      <td>0.0</td>\n",
       "    </tr>\n",
       "    <tr>\n",
       "      <th>11763</th>\n",
       "      <td>baseball</td>\n",
       "      <td>0.0</td>\n",
       "      <td>0.0</td>\n",
       "      <td>0.0</td>\n",
       "    </tr>\n",
       "    <tr>\n",
       "      <th>118267</th>\n",
       "      <td>amp</td>\n",
       "      <td>0.0</td>\n",
       "      <td>0.0</td>\n",
       "      <td>0.0</td>\n",
       "    </tr>\n",
       "    <tr>\n",
       "      <th>11685</th>\n",
       "      <td>hate</td>\n",
       "      <td>0.0</td>\n",
       "      <td>0.0</td>\n",
       "      <td>0.0</td>\n",
       "    </tr>\n",
       "    <tr>\n",
       "      <th>3672</th>\n",
       "      <td>coping</td>\n",
       "      <td>0.0</td>\n",
       "      <td>0.0</td>\n",
       "      <td>0.0</td>\n",
       "    </tr>\n",
       "    <tr>\n",
       "      <th>13643</th>\n",
       "      <td>guy</td>\n",
       "      <td>0.0</td>\n",
       "      <td>0.0</td>\n",
       "      <td>0.0</td>\n",
       "    </tr>\n",
       "    <tr>\n",
       "      <th>64825</th>\n",
       "      <td>yall</td>\n",
       "      <td>0.0</td>\n",
       "      <td>0.0</td>\n",
       "      <td>0.0</td>\n",
       "    </tr>\n",
       "    <tr>\n",
       "      <th>70978</th>\n",
       "      <td>right</td>\n",
       "      <td>0.0</td>\n",
       "      <td>0.0</td>\n",
       "      <td>1.0</td>\n",
       "    </tr>\n",
       "    <tr>\n",
       "      <th>60778</th>\n",
       "      <td>cmon</td>\n",
       "      <td>0.0</td>\n",
       "      <td>0.0</td>\n",
       "      <td>0.0</td>\n",
       "    </tr>\n",
       "    <tr>\n",
       "      <th>43035</th>\n",
       "      <td>slider</td>\n",
       "      <td>0.0</td>\n",
       "      <td>0.0</td>\n",
       "      <td>0.0</td>\n",
       "    </tr>\n",
       "    <tr>\n",
       "      <th>68862</th>\n",
       "      <td>hits</td>\n",
       "      <td>0.0</td>\n",
       "      <td>0.0</td>\n",
       "      <td>0.0</td>\n",
       "    </tr>\n",
       "    <tr>\n",
       "      <th>78278</th>\n",
       "      <td>comes</td>\n",
       "      <td>0.0</td>\n",
       "      <td>0.0</td>\n",
       "      <td>0.0</td>\n",
       "    </tr>\n",
       "  </tbody>\n",
       "</table>\n",
       "</div>"
      ],
      "text/plain": [
       "           words  pos  neg  obj\n",
       "71698       move  0.0  0.0  0.0\n",
       "52799      thing  0.0  0.0  0.0\n",
       "40873        tie  0.0  0.0  0.0\n",
       "64768        man  0.0  0.0  0.0\n",
       "11763   baseball  0.0  0.0  0.0\n",
       "118267       amp  0.0  0.0  0.0\n",
       "11685       hate  0.0  0.0  0.0\n",
       "3672      coping  0.0  0.0  0.0\n",
       "13643        guy  0.0  0.0  0.0\n",
       "64825       yall  0.0  0.0  0.0\n",
       "70978      right  0.0  0.0  1.0\n",
       "60778       cmon  0.0  0.0  0.0\n",
       "43035     slider  0.0  0.0  0.0\n",
       "68862       hits  0.0  0.0  0.0\n",
       "78278      comes  0.0  0.0  0.0"
      ]
     },
     "execution_count": 261,
     "metadata": {},
     "output_type": "execute_result"
    }
   ],
   "source": [
    "words.sample(15)"
   ]
  },
  {
   "cell_type": "code",
   "execution_count": 258,
   "metadata": {},
   "outputs": [
    {
     "name": "stdout",
     "output_type": "stream",
     "text": [
      "Positive Sentiment Score: 3472.375\n",
      "Negative Sentiment Score: 6272.625\n",
      "Neutral Sentiment Score: 20515.0\n"
     ]
    }
   ],
   "source": [
    "print(\"Positive Sentiment Score:\", words['pos'].sum())\n",
    "print(\"Negative Sentiment Score:\", words['neg'].sum())\n",
    "print(\"Neutral Sentiment Score:\", words['obj'].sum())"
   ]
  },
  {
   "cell_type": "markdown",
   "metadata": {},
   "source": [
    "<h1>Summary</h1>"
   ]
  },
  {
   "cell_type": "markdown",
   "metadata": {},
   "source": [
    "18K tweets about the NL Wildcard game between the Chicago Cubs and the Colorado Rockies were collected in the 8th inning. The game was tied 1-1 at that point with very little action. My initial thought was that positive sentiment would be high since fans were probably excited about the game. However, the scores show that negative sentiment was greater than positive and the neutral or \"objective\" sentiment was far higher. Generally, this does make some degree of sense since many tweets involve describing something seen in the game. The negative sentiment outweighing the positive could be explained by the fact that the game had little action and thus, less material for fans to react positively too. Low scoring games may have things that trigger overwhemlingly negative reactions like stranded runners, flyouts, or errors.\n",
    "\n",
    "More work could be done on the corpus selection. Perhaps a sports themed corpus could provide more clarity to words used in a sports context."
   ]
  }
 ],
 "metadata": {
  "kernelspec": {
   "display_name": "Python 3",
   "language": "python",
   "name": "python3"
  },
  "language_info": {
   "codemirror_mode": {
    "name": "ipython",
    "version": 3
   },
   "file_extension": ".py",
   "mimetype": "text/x-python",
   "name": "python",
   "nbconvert_exporter": "python",
   "pygments_lexer": "ipython3",
   "version": "3.6.5"
  }
 },
 "nbformat": 4,
 "nbformat_minor": 2
}
